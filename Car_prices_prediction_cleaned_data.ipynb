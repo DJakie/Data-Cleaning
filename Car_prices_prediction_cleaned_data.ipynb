{
 "cells": [
  {
   "cell_type": "code",
   "execution_count": 121,
   "id": "3893564d",
   "metadata": {},
   "outputs": [],
   "source": [
    "import pandas as pd"
   ]
  },
  {
   "cell_type": "code",
   "execution_count": 168,
   "id": "f9d3529b",
   "metadata": {},
   "outputs": [],
   "source": [
    "Car_price = pd.read_csv(\"C:\\\\Users\\\\debra\\\\OneDrive\\\\Desktop\\\\PROJECTS FOR DATAANALYSIS\\\\DATASETS\\\\Car_price_prediction\\\\Cars.csv\")"
   ]
  },
  {
   "cell_type": "code",
   "execution_count": 123,
   "id": "91f47fda",
   "metadata": {},
   "outputs": [
    {
     "data": {
      "text/html": [
       "<div>\n",
       "<style scoped>\n",
       "    .dataframe tbody tr th:only-of-type {\n",
       "        vertical-align: middle;\n",
       "    }\n",
       "\n",
       "    .dataframe tbody tr th {\n",
       "        vertical-align: top;\n",
       "    }\n",
       "\n",
       "    .dataframe thead th {\n",
       "        text-align: right;\n",
       "    }\n",
       "</style>\n",
       "<table border=\"1\" class=\"dataframe\">\n",
       "  <thead>\n",
       "    <tr style=\"text-align: right;\">\n",
       "      <th></th>\n",
       "      <th>Name</th>\n",
       "      <th>Location</th>\n",
       "      <th>Year</th>\n",
       "      <th>Kilometers_Driven</th>\n",
       "      <th>Fuel_Type</th>\n",
       "      <th>Transmission</th>\n",
       "      <th>Owner_Type</th>\n",
       "      <th>Mileage</th>\n",
       "      <th>Engine</th>\n",
       "      <th>Power</th>\n",
       "      <th>Colour</th>\n",
       "      <th>Seats</th>\n",
       "      <th>No. of Doors</th>\n",
       "      <th>New_Price</th>\n",
       "      <th>Price</th>\n",
       "    </tr>\n",
       "  </thead>\n",
       "  <tbody>\n",
       "    <tr>\n",
       "      <th>0</th>\n",
       "      <td>Mahindra Scorpio</td>\n",
       "      <td>Pune</td>\n",
       "      <td>2012.0</td>\n",
       "      <td>99000.0</td>\n",
       "      <td>Diesel</td>\n",
       "      <td>Manual</td>\n",
       "      <td>Third</td>\n",
       "      <td>12.05 kmpl</td>\n",
       "      <td>2179 CC</td>\n",
       "      <td>120 bhp</td>\n",
       "      <td>Black/Silver</td>\n",
       "      <td>8.0</td>\n",
       "      <td>5.0</td>\n",
       "      <td>NaN</td>\n",
       "      <td>6.00</td>\n",
       "    </tr>\n",
       "    <tr>\n",
       "      <th>1</th>\n",
       "      <td>Maruti Baleno</td>\n",
       "      <td>Kochi</td>\n",
       "      <td>2018.0</td>\n",
       "      <td>18678.0</td>\n",
       "      <td>Petrol</td>\n",
       "      <td>Manual</td>\n",
       "      <td>First</td>\n",
       "      <td>21.1 kmpl</td>\n",
       "      <td>998 CC</td>\n",
       "      <td>100 bhp</td>\n",
       "      <td>Others</td>\n",
       "      <td>5.0</td>\n",
       "      <td>4.0</td>\n",
       "      <td>NaN</td>\n",
       "      <td>8.32</td>\n",
       "    </tr>\n",
       "    <tr>\n",
       "      <th>2</th>\n",
       "      <td>Mahindra Xylo</td>\n",
       "      <td>Bangalore</td>\n",
       "      <td>2013.0</td>\n",
       "      <td>197000.0</td>\n",
       "      <td>Diesel</td>\n",
       "      <td>Manual</td>\n",
       "      <td>First</td>\n",
       "      <td>11.68 kmpl</td>\n",
       "      <td>2498 CC</td>\n",
       "      <td>112 bhp</td>\n",
       "      <td>White</td>\n",
       "      <td>7.0</td>\n",
       "      <td>5.0</td>\n",
       "      <td>NaN</td>\n",
       "      <td>4.00</td>\n",
       "    </tr>\n",
       "    <tr>\n",
       "      <th>3</th>\n",
       "      <td>Hyundai Grand</td>\n",
       "      <td>Delhi</td>\n",
       "      <td>2014.0</td>\n",
       "      <td>45000.0</td>\n",
       "      <td>Diesel</td>\n",
       "      <td>Manual</td>\n",
       "      <td>First</td>\n",
       "      <td>24.0 kmpl</td>\n",
       "      <td>1120 CC</td>\n",
       "      <td>70 bhp</td>\n",
       "      <td>White</td>\n",
       "      <td>5.0</td>\n",
       "      <td>4.0</td>\n",
       "      <td>NaN</td>\n",
       "      <td>3.49</td>\n",
       "    </tr>\n",
       "    <tr>\n",
       "      <th>4</th>\n",
       "      <td>Toyota Innova</td>\n",
       "      <td>Delhi</td>\n",
       "      <td>2011.0</td>\n",
       "      <td>65000.0</td>\n",
       "      <td>Diesel</td>\n",
       "      <td>Manual</td>\n",
       "      <td>First</td>\n",
       "      <td>12.8 kmpl</td>\n",
       "      <td>2494 CC</td>\n",
       "      <td>102 bhp</td>\n",
       "      <td>Others</td>\n",
       "      <td>8.0</td>\n",
       "      <td>5.0</td>\n",
       "      <td>NaN</td>\n",
       "      <td>6.40</td>\n",
       "    </tr>\n",
       "    <tr>\n",
       "      <th>5</th>\n",
       "      <td>Honda WRV</td>\n",
       "      <td>Kochi</td>\n",
       "      <td>2018.0</td>\n",
       "      <td>15135.0</td>\n",
       "      <td>Petrol</td>\n",
       "      <td>Manual</td>\n",
       "      <td>First</td>\n",
       "      <td>17.5 kmpl</td>\n",
       "      <td>1199 CC</td>\n",
       "      <td>88.7 bhp</td>\n",
       "      <td>White</td>\n",
       "      <td>5.0</td>\n",
       "      <td>4.0</td>\n",
       "      <td>10.57 Lakh</td>\n",
       "      <td>9.29</td>\n",
       "    </tr>\n",
       "    <tr>\n",
       "      <th>6</th>\n",
       "      <td>Hyundai Verna</td>\n",
       "      <td>Bangalore</td>\n",
       "      <td>2016.0</td>\n",
       "      <td>79000.0</td>\n",
       "      <td>Diesel</td>\n",
       "      <td>Manual</td>\n",
       "      <td>First</td>\n",
       "      <td>24.8 kmpl</td>\n",
       "      <td>1396 CC</td>\n",
       "      <td>88.7 bhp</td>\n",
       "      <td>White</td>\n",
       "      <td>5.0</td>\n",
       "      <td>4.0</td>\n",
       "      <td>NaN</td>\n",
       "      <td>7.25</td>\n",
       "    </tr>\n",
       "    <tr>\n",
       "      <th>7</th>\n",
       "      <td>Toyota Fortuner</td>\n",
       "      <td>Pune</td>\n",
       "      <td>2015.0</td>\n",
       "      <td>36000.0</td>\n",
       "      <td>Diesel</td>\n",
       "      <td>Automatic</td>\n",
       "      <td>First</td>\n",
       "      <td>12.55 kmpl</td>\n",
       "      <td>2982 CC</td>\n",
       "      <td>168.5 bhp</td>\n",
       "      <td>White</td>\n",
       "      <td>7.0</td>\n",
       "      <td>5.0</td>\n",
       "      <td>NaN</td>\n",
       "      <td>22.00</td>\n",
       "    </tr>\n",
       "    <tr>\n",
       "      <th>8</th>\n",
       "      <td>Toyota Innova</td>\n",
       "      <td>Hyderabad</td>\n",
       "      <td>2009.0</td>\n",
       "      <td>156056.0</td>\n",
       "      <td>Diesel</td>\n",
       "      <td>Manual</td>\n",
       "      <td>First</td>\n",
       "      <td>12.8 kmpl</td>\n",
       "      <td>2494 CC</td>\n",
       "      <td>102 bhp</td>\n",
       "      <td>Others</td>\n",
       "      <td>8.0</td>\n",
       "      <td>5.0</td>\n",
       "      <td>NaN</td>\n",
       "      <td>8.50</td>\n",
       "    </tr>\n",
       "    <tr>\n",
       "      <th>9</th>\n",
       "      <td>Chevrolet Beat</td>\n",
       "      <td>Hyderabad</td>\n",
       "      <td>2012.0</td>\n",
       "      <td>61250.0</td>\n",
       "      <td>Diesel</td>\n",
       "      <td>Manual</td>\n",
       "      <td>First</td>\n",
       "      <td>25.44 kmpl</td>\n",
       "      <td>936 CC</td>\n",
       "      <td>57.6 bhp</td>\n",
       "      <td>Others</td>\n",
       "      <td>5.0</td>\n",
       "      <td>4.0</td>\n",
       "      <td>NaN</td>\n",
       "      <td>2.70</td>\n",
       "    </tr>\n",
       "  </tbody>\n",
       "</table>\n",
       "</div>"
      ],
      "text/plain": [
       "               Name   Location    Year  Kilometers_Driven Fuel_Type  \\\n",
       "0  Mahindra Scorpio       Pune  2012.0            99000.0    Diesel   \n",
       "1     Maruti Baleno      Kochi  2018.0            18678.0    Petrol   \n",
       "2     Mahindra Xylo  Bangalore  2013.0           197000.0    Diesel   \n",
       "3     Hyundai Grand      Delhi  2014.0            45000.0    Diesel   \n",
       "4     Toyota Innova      Delhi  2011.0            65000.0    Diesel   \n",
       "5         Honda WRV      Kochi  2018.0            15135.0    Petrol   \n",
       "6     Hyundai Verna  Bangalore  2016.0            79000.0    Diesel   \n",
       "7   Toyota Fortuner       Pune  2015.0            36000.0    Diesel   \n",
       "8     Toyota Innova  Hyderabad  2009.0           156056.0    Diesel   \n",
       "9    Chevrolet Beat  Hyderabad  2012.0            61250.0    Diesel   \n",
       "\n",
       "  Transmission Owner_Type     Mileage   Engine      Power        Colour  \\\n",
       "0       Manual      Third  12.05 kmpl  2179 CC    120 bhp  Black/Silver   \n",
       "1       Manual      First   21.1 kmpl   998 CC    100 bhp        Others   \n",
       "2       Manual      First  11.68 kmpl  2498 CC    112 bhp         White   \n",
       "3       Manual      First   24.0 kmpl  1120 CC     70 bhp         White   \n",
       "4       Manual      First   12.8 kmpl  2494 CC    102 bhp        Others   \n",
       "5       Manual      First   17.5 kmpl  1199 CC   88.7 bhp         White   \n",
       "6       Manual      First   24.8 kmpl  1396 CC   88.7 bhp         White   \n",
       "7    Automatic      First  12.55 kmpl  2982 CC  168.5 bhp         White   \n",
       "8       Manual      First   12.8 kmpl  2494 CC    102 bhp        Others   \n",
       "9       Manual      First  25.44 kmpl   936 CC   57.6 bhp        Others   \n",
       "\n",
       "   Seats  No. of Doors   New_Price  Price  \n",
       "0    8.0           5.0         NaN   6.00  \n",
       "1    5.0           4.0         NaN   8.32  \n",
       "2    7.0           5.0         NaN   4.00  \n",
       "3    5.0           4.0         NaN   3.49  \n",
       "4    8.0           5.0         NaN   6.40  \n",
       "5    5.0           4.0  10.57 Lakh   9.29  \n",
       "6    5.0           4.0         NaN   7.25  \n",
       "7    7.0           5.0         NaN  22.00  \n",
       "8    8.0           5.0         NaN   8.50  \n",
       "9    5.0           4.0         NaN   2.70  "
      ]
     },
     "execution_count": 123,
     "metadata": {},
     "output_type": "execute_result"
    }
   ],
   "source": [
    "Car_price.head(10)"
   ]
  },
  {
   "cell_type": "code",
   "execution_count": null,
   "id": "015ab5dd",
   "metadata": {},
   "outputs": [],
   "source": []
  },
  {
   "cell_type": "code",
   "execution_count": null,
   "id": "72e4a07c",
   "metadata": {},
   "outputs": [],
   "source": []
  },
  {
   "cell_type": "code",
   "execution_count": 124,
   "id": "8330f495",
   "metadata": {},
   "outputs": [
    {
     "data": {
      "text/plain": [
       "Name                    0\n",
       "Location               11\n",
       "Year                    2\n",
       "Kilometers_Driven       8\n",
       "Fuel_Type               0\n",
       "Transmission           27\n",
       "Owner_Type             15\n",
       "Mileage                 2\n",
       "Engine                 17\n",
       "Power                  32\n",
       "Colour                 11\n",
       "Seats                   5\n",
       "No. of Doors            1\n",
       "New_Price            5137\n",
       "Price                   0\n",
       "dtype: int64"
      ]
     },
     "execution_count": 124,
     "metadata": {},
     "output_type": "execute_result"
    }
   ],
   "source": [
    "## Finding null or nan values\n",
    "\n",
    "Car_price.isna().sum()"
   ]
  },
  {
   "cell_type": "code",
   "execution_count": 125,
   "id": "c356123d",
   "metadata": {},
   "outputs": [
    {
     "data": {
      "text/plain": [
       "(5961, 15)"
      ]
     },
     "execution_count": 125,
     "metadata": {},
     "output_type": "execute_result"
    }
   ],
   "source": [
    "Car_price.shape"
   ]
  },
  {
   "cell_type": "code",
   "execution_count": 126,
   "id": "8e203c64",
   "metadata": {},
   "outputs": [
    {
     "data": {
      "text/plain": [
       "(5950, 15)"
      ]
     },
     "execution_count": 126,
     "metadata": {},
     "output_type": "execute_result"
    }
   ],
   "source": [
    "# Dropping na value in location \n",
    "\n",
    "Car_price=Car_price.dropna(subset=['Location'])\n",
    "Car_price.shape"
   ]
  },
  {
   "cell_type": "code",
   "execution_count": 127,
   "id": "55c8603d",
   "metadata": {},
   "outputs": [
    {
     "data": {
      "text/plain": [
       "(5948, 15)"
      ]
     },
     "execution_count": 127,
     "metadata": {},
     "output_type": "execute_result"
    }
   ],
   "source": [
    "Car_price=Car_price.dropna(subset=['Year'])\n",
    "Car_price.shape"
   ]
  },
  {
   "cell_type": "code",
   "execution_count": 128,
   "id": "34db17e1",
   "metadata": {},
   "outputs": [
    {
     "data": {
      "text/plain": [
       "(5921, 15)"
      ]
     },
     "execution_count": 128,
     "metadata": {},
     "output_type": "execute_result"
    }
   ],
   "source": [
    "Car_price=Car_price.dropna(subset=['Transmission'])\n",
    "Car_price.shape"
   ]
  },
  {
   "cell_type": "code",
   "execution_count": 129,
   "id": "5e667b3c",
   "metadata": {},
   "outputs": [
    {
     "data": {
      "text/plain": [
       "(5920, 15)"
      ]
     },
     "execution_count": 129,
     "metadata": {},
     "output_type": "execute_result"
    }
   ],
   "source": [
    "Car_price=Car_price.dropna(subset=['Owner_Type'])\n",
    "Car_price.shape"
   ]
  },
  {
   "cell_type": "code",
   "execution_count": 130,
   "id": "39e97f7f",
   "metadata": {},
   "outputs": [
    {
     "data": {
      "text/plain": [
       "(5918, 15)"
      ]
     },
     "execution_count": 130,
     "metadata": {},
     "output_type": "execute_result"
    }
   ],
   "source": [
    "Car_price=Car_price.dropna(subset=['Mileage'])\n",
    "Car_price.shape"
   ]
  },
  {
   "cell_type": "code",
   "execution_count": 131,
   "id": "d949a40a",
   "metadata": {},
   "outputs": [
    {
     "data": {
      "text/plain": [
       "(5901, 15)"
      ]
     },
     "execution_count": 131,
     "metadata": {},
     "output_type": "execute_result"
    }
   ],
   "source": [
    "Car_price=Car_price.dropna(subset=['Engine'])\n",
    "Car_price.shape"
   ]
  },
  {
   "cell_type": "code",
   "execution_count": 132,
   "id": "c2363b65",
   "metadata": {},
   "outputs": [
    {
     "data": {
      "text/plain": [
       "(5889, 15)"
      ]
     },
     "execution_count": 132,
     "metadata": {},
     "output_type": "execute_result"
    }
   ],
   "source": [
    "Car_price=Car_price.dropna(subset=['Power'])\n",
    "Car_price.shape"
   ]
  },
  {
   "cell_type": "code",
   "execution_count": 133,
   "id": "4f078e2b",
   "metadata": {},
   "outputs": [
    {
     "data": {
      "text/plain": [
       "(5889, 15)"
      ]
     },
     "execution_count": 133,
     "metadata": {},
     "output_type": "execute_result"
    }
   ],
   "source": [
    "Car_price=Car_price.dropna(subset=['Colour'])\n",
    "Car_price.shape"
   ]
  },
  {
   "cell_type": "code",
   "execution_count": 134,
   "id": "4f57e89a",
   "metadata": {},
   "outputs": [
    {
     "data": {
      "text/plain": [
       "(5889, 15)"
      ]
     },
     "execution_count": 134,
     "metadata": {},
     "output_type": "execute_result"
    }
   ],
   "source": [
    "Car_price=Car_price.dropna(subset=['Seats'])\n",
    "Car_price.shape"
   ]
  },
  {
   "cell_type": "code",
   "execution_count": 135,
   "id": "b1b7f04a",
   "metadata": {},
   "outputs": [
    {
     "data": {
      "text/plain": [
       "(5889, 15)"
      ]
     },
     "execution_count": 135,
     "metadata": {},
     "output_type": "execute_result"
    }
   ],
   "source": [
    "Car_price=Car_price.dropna(subset=['No. of Doors'])\n",
    "Car_price.shape"
   ]
  },
  {
   "cell_type": "code",
   "execution_count": null,
   "id": "91ea9691",
   "metadata": {},
   "outputs": [],
   "source": []
  },
  {
   "cell_type": "code",
   "execution_count": null,
   "id": "114e4812",
   "metadata": {},
   "outputs": [],
   "source": []
  },
  {
   "cell_type": "code",
   "execution_count": 165,
   "id": "1bad9827",
   "metadata": {},
   "outputs": [
    {
     "data": {
      "text/plain": [
       "(5889, 15)"
      ]
     },
     "execution_count": 165,
     "metadata": {},
     "output_type": "execute_result"
    }
   ],
   "source": [
    "## the entire operation of dropping na values using for loop\n",
    "\n",
    "for column in ['Location','Seats','No. of Doors','Colour','Power','Engine','Mileage','Owner_Type',\n",
    "                         'Transmission','Year']:\n",
    "    Car_price=Car_price.dropna(subset=[column])\n",
    "Car_price.shape\n",
    "    "
   ]
  },
  {
   "cell_type": "code",
   "execution_count": null,
   "id": "bfd80e27",
   "metadata": {},
   "outputs": [],
   "source": []
  },
  {
   "cell_type": "code",
   "execution_count": 172,
   "id": "29448209",
   "metadata": {},
   "outputs": [],
   "source": [
    "## drop na func\n",
    "\n",
    "def dropnacolumn(df, columns):\n",
    "    for column in columns:\n",
    "        df=df.dropna(subset=[column])\n",
    "    return df.shape"
   ]
  },
  {
   "cell_type": "code",
   "execution_count": 176,
   "id": "1ec27c00",
   "metadata": {},
   "outputs": [
    {
     "data": {
      "text/plain": [
       "(5889, 15)"
      ]
     },
     "execution_count": 176,
     "metadata": {},
     "output_type": "execute_result"
    }
   ],
   "source": [
    "dropnacolumn(df=Car_price,columns=['Location','Seats','No. of Doors','Colour','Power','Engine','Mileage','Owner_Type',\n",
    "                         'Transmission','Year'])"
   ]
  },
  {
   "cell_type": "code",
   "execution_count": null,
   "id": "d43a9844",
   "metadata": {},
   "outputs": [],
   "source": []
  },
  {
   "cell_type": "code",
   "execution_count": null,
   "id": "b0153062",
   "metadata": {},
   "outputs": [],
   "source": []
  },
  {
   "cell_type": "code",
   "execution_count": 136,
   "id": "e35e755d",
   "metadata": {},
   "outputs": [],
   "source": [
    "## Dropping the New_Price column as it has too many na values\n",
    "\n",
    "Car_price.drop(columns = 'New_Price', inplace = True)"
   ]
  },
  {
   "cell_type": "code",
   "execution_count": null,
   "id": "45b93fe4",
   "metadata": {},
   "outputs": [],
   "source": []
  },
  {
   "cell_type": "code",
   "execution_count": 138,
   "id": "4a6c26fa",
   "metadata": {},
   "outputs": [
    {
     "name": "stdout",
     "output_type": "stream",
     "text": [
      "<class 'pandas.core.frame.DataFrame'>\n",
      "Index: 5889 entries, 0 to 5960\n",
      "Data columns (total 14 columns):\n",
      " #   Column             Non-Null Count  Dtype  \n",
      "---  ------             --------------  -----  \n",
      " 0   Name               5889 non-null   object \n",
      " 1   Location           5889 non-null   object \n",
      " 2   Year               5889 non-null   int32  \n",
      " 3   Kilometers_Driven  5889 non-null   float64\n",
      " 4   Fuel_Type          5889 non-null   object \n",
      " 5   Transmission       5889 non-null   object \n",
      " 6   Owner_Type         5889 non-null   object \n",
      " 7   Mileage            5889 non-null   object \n",
      " 8   Engine             5889 non-null   object \n",
      " 9   Power              5889 non-null   object \n",
      " 10  Colour             5889 non-null   object \n",
      " 11  Seats              5889 non-null   float64\n",
      " 12  No. of Doors       5889 non-null   float64\n",
      " 13  Price              5889 non-null   float64\n",
      "dtypes: float64(4), int32(1), object(9)\n",
      "memory usage: 667.1+ KB\n"
     ]
    }
   ],
   "source": [
    "Car_price.info()"
   ]
  },
  {
   "cell_type": "code",
   "execution_count": 139,
   "id": "977ff21a",
   "metadata": {},
   "outputs": [
    {
     "data": {
      "text/html": [
       "<div>\n",
       "<style scoped>\n",
       "    .dataframe tbody tr th:only-of-type {\n",
       "        vertical-align: middle;\n",
       "    }\n",
       "\n",
       "    .dataframe tbody tr th {\n",
       "        vertical-align: top;\n",
       "    }\n",
       "\n",
       "    .dataframe thead th {\n",
       "        text-align: right;\n",
       "    }\n",
       "</style>\n",
       "<table border=\"1\" class=\"dataframe\">\n",
       "  <thead>\n",
       "    <tr style=\"text-align: right;\">\n",
       "      <th></th>\n",
       "      <th>Year</th>\n",
       "      <th>Kilometers_Driven</th>\n",
       "      <th>Seats</th>\n",
       "      <th>No. of Doors</th>\n",
       "      <th>Price</th>\n",
       "    </tr>\n",
       "  </thead>\n",
       "  <tbody>\n",
       "    <tr>\n",
       "      <th>count</th>\n",
       "      <td>5889.000000</td>\n",
       "      <td>5.889000e+03</td>\n",
       "      <td>5889.000000</td>\n",
       "      <td>5889.000000</td>\n",
       "      <td>5889.000000</td>\n",
       "    </tr>\n",
       "    <tr>\n",
       "      <th>mean</th>\n",
       "      <td>2013.396162</td>\n",
       "      <td>5.869539e+04</td>\n",
       "      <td>5.270165</td>\n",
       "      <td>4.115639</td>\n",
       "      <td>9.536736</td>\n",
       "    </tr>\n",
       "    <tr>\n",
       "      <th>std</th>\n",
       "      <td>3.247458</td>\n",
       "      <td>9.214472e+04</td>\n",
       "      <td>0.790480</td>\n",
       "      <td>0.345843</td>\n",
       "      <td>11.248016</td>\n",
       "    </tr>\n",
       "    <tr>\n",
       "      <th>min</th>\n",
       "      <td>1998.000000</td>\n",
       "      <td>1.710000e+02</td>\n",
       "      <td>2.000000</td>\n",
       "      <td>2.000000</td>\n",
       "      <td>0.440000</td>\n",
       "    </tr>\n",
       "    <tr>\n",
       "      <th>25%</th>\n",
       "      <td>2012.000000</td>\n",
       "      <td>3.385500e+04</td>\n",
       "      <td>5.000000</td>\n",
       "      <td>4.000000</td>\n",
       "      <td>3.500000</td>\n",
       "    </tr>\n",
       "    <tr>\n",
       "      <th>50%</th>\n",
       "      <td>2014.000000</td>\n",
       "      <td>5.300000e+04</td>\n",
       "      <td>5.000000</td>\n",
       "      <td>4.000000</td>\n",
       "      <td>5.660000</td>\n",
       "    </tr>\n",
       "    <tr>\n",
       "      <th>75%</th>\n",
       "      <td>2016.000000</td>\n",
       "      <td>7.300000e+04</td>\n",
       "      <td>5.000000</td>\n",
       "      <td>4.000000</td>\n",
       "      <td>10.000000</td>\n",
       "    </tr>\n",
       "    <tr>\n",
       "      <th>max</th>\n",
       "      <td>2019.000000</td>\n",
       "      <td>6.500000e+06</td>\n",
       "      <td>10.000000</td>\n",
       "      <td>5.000000</td>\n",
       "      <td>160.000000</td>\n",
       "    </tr>\n",
       "  </tbody>\n",
       "</table>\n",
       "</div>"
      ],
      "text/plain": [
       "              Year  Kilometers_Driven        Seats  No. of Doors        Price\n",
       "count  5889.000000       5.889000e+03  5889.000000   5889.000000  5889.000000\n",
       "mean   2013.396162       5.869539e+04     5.270165      4.115639     9.536736\n",
       "std       3.247458       9.214472e+04     0.790480      0.345843    11.248016\n",
       "min    1998.000000       1.710000e+02     2.000000      2.000000     0.440000\n",
       "25%    2012.000000       3.385500e+04     5.000000      4.000000     3.500000\n",
       "50%    2014.000000       5.300000e+04     5.000000      4.000000     5.660000\n",
       "75%    2016.000000       7.300000e+04     5.000000      4.000000    10.000000\n",
       "max    2019.000000       6.500000e+06    10.000000      5.000000   160.000000"
      ]
     },
     "execution_count": 139,
     "metadata": {},
     "output_type": "execute_result"
    }
   ],
   "source": [
    "Car_price.describe()"
   ]
  },
  {
   "cell_type": "code",
   "execution_count": 140,
   "id": "011b860f",
   "metadata": {},
   "outputs": [
    {
     "data": {
      "text/plain": [
       "Name                  210\n",
       "Location               11\n",
       "Year                   22\n",
       "Kilometers_Driven    3036\n",
       "Fuel_Type               4\n",
       "Transmission            2\n",
       "Owner_Type              4\n",
       "Mileage               438\n",
       "Engine                142\n",
       "Power                 368\n",
       "Colour                  3\n",
       "Seats                   8\n",
       "No. of Doors            3\n",
       "Price                1361\n",
       "dtype: int64"
      ]
     },
     "execution_count": 140,
     "metadata": {},
     "output_type": "execute_result"
    }
   ],
   "source": [
    "Car_price.nunique()"
   ]
  },
  {
   "cell_type": "code",
   "execution_count": 141,
   "id": "0380c087",
   "metadata": {},
   "outputs": [],
   "source": [
    "Car_price['Mileage'] = Car_price['Mileage'].str.replace('kmpl|km/kg','',regex=True)"
   ]
  },
  {
   "cell_type": "code",
   "execution_count": 142,
   "id": "d701c710",
   "metadata": {},
   "outputs": [],
   "source": [
    "Car_price['Engine'] = Car_price['Engine'].str.replace('CC','')"
   ]
  },
  {
   "cell_type": "code",
   "execution_count": 143,
   "id": "b19dd070",
   "metadata": {},
   "outputs": [],
   "source": [
    "Car_price['Power'] = Car_price['Power'].str.replace('bhp','')"
   ]
  },
  {
   "cell_type": "code",
   "execution_count": 144,
   "id": "2cc23d90",
   "metadata": {},
   "outputs": [],
   "source": [
    "Car_price['Mileage']=Car_price['Mileage'].astype(float)"
   ]
  },
  {
   "cell_type": "code",
   "execution_count": 145,
   "id": "67512195",
   "metadata": {},
   "outputs": [],
   "source": [
    "Car_price['Engine']=Car_price['Engine'].astype(int)"
   ]
  },
  {
   "cell_type": "code",
   "execution_count": 149,
   "id": "45bf5a90",
   "metadata": {},
   "outputs": [],
   "source": [
    "## Dropping specific rows with 'null ' as a value in thier Power column\n",
    "\n",
    "Car_price.drop(Car_price[Car_price['Power']== 'null '].index,inplace=True)"
   ]
  },
  {
   "cell_type": "code",
   "execution_count": 150,
   "id": "6abe4749",
   "metadata": {},
   "outputs": [],
   "source": [
    "Car_price['Power']=Car_price['Power'].astype(float)"
   ]
  },
  {
   "cell_type": "code",
   "execution_count": 151,
   "id": "f4a14f18",
   "metadata": {},
   "outputs": [],
   "source": [
    "Car_price.to_csv(r'C:\\\\Users\\\\debra\\\\OneDrive\\\\Desktop\\\\PROJECTS FOR DATAANALYSIS\\\\DATASETS\\\\Car_price_prediction\\\\Car_price_prediction_cleaned.csv',index = False)"
   ]
  },
  {
   "cell_type": "code",
   "execution_count": 153,
   "id": "02d1be9d",
   "metadata": {},
   "outputs": [
    {
     "data": {
      "text/html": [
       "<div>\n",
       "<style scoped>\n",
       "    .dataframe tbody tr th:only-of-type {\n",
       "        vertical-align: middle;\n",
       "    }\n",
       "\n",
       "    .dataframe tbody tr th {\n",
       "        vertical-align: top;\n",
       "    }\n",
       "\n",
       "    .dataframe thead th {\n",
       "        text-align: right;\n",
       "    }\n",
       "</style>\n",
       "<table border=\"1\" class=\"dataframe\">\n",
       "  <thead>\n",
       "    <tr style=\"text-align: right;\">\n",
       "      <th></th>\n",
       "      <th>Year</th>\n",
       "      <th>Kilometers_Driven</th>\n",
       "      <th>Mileage</th>\n",
       "      <th>Engine</th>\n",
       "      <th>Power</th>\n",
       "      <th>Seats</th>\n",
       "      <th>No. of Doors</th>\n",
       "      <th>Price</th>\n",
       "    </tr>\n",
       "  </thead>\n",
       "  <tbody>\n",
       "    <tr>\n",
       "      <th>count</th>\n",
       "      <td>5786.000000</td>\n",
       "      <td>5.786000e+03</td>\n",
       "      <td>5786.000000</td>\n",
       "      <td>5786.000000</td>\n",
       "      <td>5786.000000</td>\n",
       "      <td>5786.000000</td>\n",
       "      <td>5786.000000</td>\n",
       "      <td>5786.000000</td>\n",
       "    </tr>\n",
       "    <tr>\n",
       "      <th>mean</th>\n",
       "      <td>2013.488593</td>\n",
       "      <td>5.833314e+04</td>\n",
       "      <td>18.278629</td>\n",
       "      <td>1626.677325</td>\n",
       "      <td>113.433716</td>\n",
       "      <td>5.274628</td>\n",
       "      <td>4.118044</td>\n",
       "      <td>9.641153</td>\n",
       "    </tr>\n",
       "    <tr>\n",
       "      <th>std</th>\n",
       "      <td>3.163255</td>\n",
       "      <td>9.277115e+04</td>\n",
       "      <td>4.361078</td>\n",
       "      <td>601.763872</td>\n",
       "      <td>53.892306</td>\n",
       "      <td>0.788050</td>\n",
       "      <td>0.342944</td>\n",
       "      <td>11.292628</td>\n",
       "    </tr>\n",
       "    <tr>\n",
       "      <th>min</th>\n",
       "      <td>1998.000000</td>\n",
       "      <td>1.710000e+02</td>\n",
       "      <td>0.000000</td>\n",
       "      <td>624.000000</td>\n",
       "      <td>34.200000</td>\n",
       "      <td>2.000000</td>\n",
       "      <td>2.000000</td>\n",
       "      <td>0.440000</td>\n",
       "    </tr>\n",
       "    <tr>\n",
       "      <th>25%</th>\n",
       "      <td>2012.000000</td>\n",
       "      <td>3.325675e+04</td>\n",
       "      <td>15.260000</td>\n",
       "      <td>1198.000000</td>\n",
       "      <td>75.235000</td>\n",
       "      <td>5.000000</td>\n",
       "      <td>4.000000</td>\n",
       "      <td>3.550000</td>\n",
       "    </tr>\n",
       "    <tr>\n",
       "      <th>50%</th>\n",
       "      <td>2014.000000</td>\n",
       "      <td>5.253450e+04</td>\n",
       "      <td>18.240000</td>\n",
       "      <td>1496.000000</td>\n",
       "      <td>98.590000</td>\n",
       "      <td>5.000000</td>\n",
       "      <td>4.000000</td>\n",
       "      <td>5.750000</td>\n",
       "    </tr>\n",
       "    <tr>\n",
       "      <th>75%</th>\n",
       "      <td>2016.000000</td>\n",
       "      <td>7.246800e+04</td>\n",
       "      <td>21.100000</td>\n",
       "      <td>1991.000000</td>\n",
       "      <td>138.100000</td>\n",
       "      <td>5.000000</td>\n",
       "      <td>4.000000</td>\n",
       "      <td>10.110000</td>\n",
       "    </tr>\n",
       "    <tr>\n",
       "      <th>max</th>\n",
       "      <td>2019.000000</td>\n",
       "      <td>6.500000e+06</td>\n",
       "      <td>33.540000</td>\n",
       "      <td>5998.000000</td>\n",
       "      <td>560.000000</td>\n",
       "      <td>10.000000</td>\n",
       "      <td>5.000000</td>\n",
       "      <td>160.000000</td>\n",
       "    </tr>\n",
       "  </tbody>\n",
       "</table>\n",
       "</div>"
      ],
      "text/plain": [
       "              Year  Kilometers_Driven      Mileage       Engine        Power  \\\n",
       "count  5786.000000       5.786000e+03  5786.000000  5786.000000  5786.000000   \n",
       "mean   2013.488593       5.833314e+04    18.278629  1626.677325   113.433716   \n",
       "std       3.163255       9.277115e+04     4.361078   601.763872    53.892306   \n",
       "min    1998.000000       1.710000e+02     0.000000   624.000000    34.200000   \n",
       "25%    2012.000000       3.325675e+04    15.260000  1198.000000    75.235000   \n",
       "50%    2014.000000       5.253450e+04    18.240000  1496.000000    98.590000   \n",
       "75%    2016.000000       7.246800e+04    21.100000  1991.000000   138.100000   \n",
       "max    2019.000000       6.500000e+06    33.540000  5998.000000   560.000000   \n",
       "\n",
       "             Seats  No. of Doors        Price  \n",
       "count  5786.000000   5786.000000  5786.000000  \n",
       "mean      5.274628      4.118044     9.641153  \n",
       "std       0.788050      0.342944    11.292628  \n",
       "min       2.000000      2.000000     0.440000  \n",
       "25%       5.000000      4.000000     3.550000  \n",
       "50%       5.000000      4.000000     5.750000  \n",
       "75%       5.000000      4.000000    10.110000  \n",
       "max      10.000000      5.000000   160.000000  "
      ]
     },
     "execution_count": 153,
     "metadata": {},
     "output_type": "execute_result"
    }
   ],
   "source": [
    "Car_price.describe()"
   ]
  },
  {
   "cell_type": "code",
   "execution_count": 178,
   "id": "1cff3734",
   "metadata": {},
   "outputs": [],
   "source": [
    "Car_prices=pd.read_csv(\"C:\\\\Users\\\\debra\\\\OneDrive\\\\Desktop\\\\PROJECTS FOR DATAANALYSIS\\\\DATASETS\\\\Car_price_prediction\\\\Car_price_prediction_cleaned.csv\")"
   ]
  },
  {
   "cell_type": "code",
   "execution_count": null,
   "id": "e4fdb7bd",
   "metadata": {},
   "outputs": [],
   "source": []
  }
 ],
 "metadata": {
  "kernelspec": {
   "display_name": "Python 3 (ipykernel)",
   "language": "python",
   "name": "python3"
  },
  "language_info": {
   "codemirror_mode": {
    "name": "ipython",
    "version": 3
   },
   "file_extension": ".py",
   "mimetype": "text/x-python",
   "name": "python",
   "nbconvert_exporter": "python",
   "pygments_lexer": "ipython3",
   "version": "3.11.5"
  }
 },
 "nbformat": 4,
 "nbformat_minor": 5
}
